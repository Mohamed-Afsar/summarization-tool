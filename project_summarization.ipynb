{
 "cells": [
  {
   "cell_type": "code",
   "execution_count": 1,
   "id": "bf79c4dd-ead9-4c8d-8ec6-38314f5f59bb",
   "metadata": {},
   "outputs": [
    {
     "data": {
      "text/plain": [
       "True"
      ]
     },
     "execution_count": 1,
     "metadata": {},
     "output_type": "execute_result"
    }
   ],
   "source": [
    "from dotenv import load_dotenv, find_dotenv\n",
    "load_dotenv(find_dotenv(), True)"
   ]
  },
  {
   "cell_type": "code",
   "execution_count": 3,
   "id": "090f4b91-4cdb-48ac-9402-a719c20e8ddf",
   "metadata": {},
   "outputs": [],
   "source": [
    "from langchain.chat_models import ChatOpenAI\n",
    "from langchain.schema import(\n",
    "    SystemMessage,\n",
    "    HumanMessage,\n",
    "    AIMessage\n",
    ")\n",
    "\n",
    "text = \"\"\"\n",
    "Mojo combines the usability of Python with the performance of C, leading to greater programmability of AI hardware and extensibility of AI models. It's basically an enhanced version of Python specifically designed for Artificial Intelligence developers.\n",
    "\n",
    "We just posted a full Mojo course on the freeCodeCamp.org YouTube channel. Elliot Arledge created this course. Elliot has created many popular courses related to AI and he's the perfect person to teach this course.\n",
    "\n",
    "Mojo allows you to write Python or scale all the way down to the metal. You can program the multitude of low-level AI hardware and no C++ or CUDA is required.\n",
    "\n",
    "Mojo was designed by the creator of the Swift programming language to bridge the gap between research and production by combining Python syntax and ecosystem with systems programming and metaprogramming features. Mojo was just released, but the goal is for it to become a superset of Python over time.\n",
    "\"\"\"\n",
    "\n",
    "messages = [\n",
    "    SystemMessage(content='You are an experienced copywriter with an expertise in summarizing'),\n",
    "    HumanMessage(content=f'Please provide a short and concise summary of the following text:\\n TEXT: {text}')\n",
    "]\n",
    "\n",
    "llm = ChatOpenAI(model_name='gpt-3.5-turbo',  temperature=0)"
   ]
  },
  {
   "cell_type": "code",
   "execution_count": 4,
   "id": "eb0bc758-1e4c-4be9-9f83-b6ec104330a4",
   "metadata": {},
   "outputs": [
    {
     "data": {
      "text/plain": [
       "181"
      ]
     },
     "execution_count": 4,
     "metadata": {},
     "output_type": "execute_result"
    }
   ],
   "source": [
    "llm.get_num_tokens(text)"
   ]
  },
  {
   "cell_type": "code",
   "execution_count": 5,
   "id": "2c078725-9655-4e7e-94cc-f2a51d2ee3dc",
   "metadata": {},
   "outputs": [
    {
     "name": "stdout",
     "output_type": "stream",
     "text": [
      "content='Mojo is a programming language that combines the usability of Python with the performance of C, making it ideal for AI developers. It allows for greater programmability of AI hardware and extensibility of AI models. A full course on Mojo has been posted on the freeCodeCamp.org YouTube channel, taught by Elliot Arledge, an experienced AI course creator. Mojo enables programming from Python to low-level AI hardware without the need for C++ or CUDA. It was designed by the creator of Swift to bridge the gap between research and production, combining Python syntax and ecosystem with systems programming and metaprogramming features. The goal is for Mojo to become a superset of Python in the future.'\n"
     ]
    }
   ],
   "source": [
    "summary = llm(messages)\n",
    "print(summary)"
   ]
  },
  {
   "cell_type": "code",
   "execution_count": null,
   "id": "e3242078-de1a-4927-8a78-b5c69cefb7f8",
   "metadata": {},
   "outputs": [],
   "source": []
  }
 ],
 "metadata": {
  "kernelspec": {
   "display_name": "Python 3 (ipykernel)",
   "language": "python",
   "name": "python3"
  },
  "language_info": {
   "codemirror_mode": {
    "name": "ipython",
    "version": 3
   },
   "file_extension": ".py",
   "mimetype": "text/x-python",
   "name": "python",
   "nbconvert_exporter": "python",
   "pygments_lexer": "ipython3",
   "version": "3.11.6"
  }
 },
 "nbformat": 4,
 "nbformat_minor": 5
}
