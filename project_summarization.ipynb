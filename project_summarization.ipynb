{
 "cells": [
  {
   "cell_type": "code",
   "execution_count": 1,
   "id": "bf79c4dd-ead9-4c8d-8ec6-38314f5f59bb",
   "metadata": {},
   "outputs": [
    {
     "data": {
      "text/plain": [
       "True"
      ]
     },
     "execution_count": 1,
     "metadata": {},
     "output_type": "execute_result"
    }
   ],
   "source": [
    "from dotenv import load_dotenv, find_dotenv\n",
    "load_dotenv(find_dotenv(), True)"
   ]
  },
  {
   "cell_type": "markdown",
   "id": "28896241-e352-4d3d-9732-88f62a4f1728",
   "metadata": {},
   "source": [
    "### Basic Summarization"
   ]
  },
  {
   "cell_type": "code",
   "execution_count": 3,
   "id": "090f4b91-4cdb-48ac-9402-a719c20e8ddf",
   "metadata": {},
   "outputs": [],
   "source": [
    "from langchain.chat_models import ChatOpenAI\n",
    "from langchain.schema import(\n",
    "    SystemMessage,\n",
    "    HumanMessage,\n",
    "    AIMessage\n",
    ")\n",
    "\n",
    "text = \"\"\"\n",
    "Mojo combines the usability of Python with the performance of C, leading to greater programmability of AI hardware and extensibility of AI models. It's basically an enhanced version of Python specifically designed for Artificial Intelligence developers.\n",
    "\n",
    "We just posted a full Mojo course on the freeCodeCamp.org YouTube channel. Elliot Arledge created this course. Elliot has created many popular courses related to AI and he's the perfect person to teach this course.\n",
    "\n",
    "Mojo allows you to write Python or scale all the way down to the metal. You can program the multitude of low-level AI hardware and no C++ or CUDA is required.\n",
    "\n",
    "Mojo was designed by the creator of the Swift programming language to bridge the gap between research and production by combining Python syntax and ecosystem with systems programming and metaprogramming features. Mojo was just released, but the goal is for it to become a superset of Python over time.\n",
    "\"\"\"\n",
    "\n",
    "messages = [\n",
    "    SystemMessage(content='You are an experienced copywriter with an expertise in summarizing'),\n",
    "    HumanMessage(content=f'Please provide a short and concise summary of the following text:\\n TEXT: {text}')\n",
    "]\n",
    "\n",
    "llm = ChatOpenAI(model_name='gpt-3.5-turbo',  temperature=0)"
   ]
  },
  {
   "cell_type": "code",
   "execution_count": 4,
   "id": "eb0bc758-1e4c-4be9-9f83-b6ec104330a4",
   "metadata": {},
   "outputs": [
    {
     "data": {
      "text/plain": [
       "181"
      ]
     },
     "execution_count": 4,
     "metadata": {},
     "output_type": "execute_result"
    }
   ],
   "source": [
    "llm.get_num_tokens(text)"
   ]
  },
  {
   "cell_type": "code",
   "execution_count": 5,
   "id": "2c078725-9655-4e7e-94cc-f2a51d2ee3dc",
   "metadata": {},
   "outputs": [
    {
     "name": "stdout",
     "output_type": "stream",
     "text": [
      "content='Mojo is a programming language that combines the usability of Python with the performance of C, making it ideal for AI developers. It allows for greater programmability of AI hardware and extensibility of AI models. A full course on Mojo has been posted on the freeCodeCamp.org YouTube channel, taught by Elliot Arledge, an experienced AI course creator. Mojo enables programming from Python to low-level AI hardware without the need for C++ or CUDA. It was designed by the creator of Swift to bridge the gap between research and production, combining Python syntax and ecosystem with systems programming and metaprogramming features. The goal is for Mojo to become a superset of Python in the future.'\n"
     ]
    }
   ],
   "source": [
    "summary = llm(messages)\n",
    "print(summary)"
   ]
  },
  {
   "cell_type": "markdown",
   "id": "b36331c1-4c0f-4f92-a0f1-4104a9f50930",
   "metadata": {},
   "source": [
    "### Summarizing using Prompt Templates"
   ]
  },
  {
   "cell_type": "code",
   "execution_count": 6,
   "id": "bb1f0289-3c4b-4372-90e5-06527f531ce2",
   "metadata": {},
   "outputs": [],
   "source": [
    "from langchain import PromptTemplate\n",
    "from langchain.chains import LLMChain\n",
    "\n",
    "template = '''\n",
    "Write a short and concise summary of the following text:\n",
    "TEXT: {text}.\n",
    "Translate the summary to {language}\n",
    "'''\n",
    "\n",
    "prompt = PromptTemplate(\n",
    "    input_variables = ['text', 'language'],\n",
    "    template = template\n",
    ")"
   ]
  },
  {
   "cell_type": "code",
   "execution_count": 7,
   "id": "740e7b74-80c0-426f-a832-0f773ce9782e",
   "metadata": {},
   "outputs": [
    {
     "data": {
      "text/plain": [
       "202"
      ]
     },
     "execution_count": 7,
     "metadata": {},
     "output_type": "execute_result"
    }
   ],
   "source": [
    "llm.get_num_tokens(prompt.format(text=text, language='English'))"
   ]
  },
  {
   "cell_type": "code",
   "execution_count": 10,
   "id": "b995c36b-8473-41c0-9e29-b564e48f7086",
   "metadata": {},
   "outputs": [
    {
     "name": "stdout",
     "output_type": "stream",
     "text": [
      "Mojo ist eine verbesserte Version von Python, die speziell für KI-Entwickler entwickelt wurde. Es kombiniert die Benutzerfreundlichkeit von Python mit der Leistung von C und ermöglicht eine bessere Programmierbarkeit von KI-Hardware und Erweiterbarkeit von KI-Modellen. Mojo ermöglicht es, entweder in Python zu programmieren oder bis auf die Hardware-Ebene herunterzuskalieren, ohne dass C++ oder CUDA erforderlich sind. Es wurde von dem Schöpfer der Swift-Programmiersprache entwickelt, um die Lücke zwischen Forschung und Produktion zu schließen, indem es Python-Syntax und -Ökosystem mit systemnaher Programmierung und Metaprogrammierungsmerkmalen kombiniert. Das Ziel ist es, dass Mojo im Laufe der Zeit zu einer Erweiterung von Python wird.\n"
     ]
    }
   ],
   "source": [
    "chain = LLMChain(\n",
    "    llm=llm,\n",
    "    prompt=prompt\n",
    ")\n",
    "\n",
    "summary = chain.run({'text': text, 'language': 'German'})\n",
    "print(summary)"
   ]
  },
  {
   "cell_type": "markdown",
   "id": "5c0c655d-5f93-41dd-8645-659a80b1a9e1",
   "metadata": {},
   "source": [
    "### Summary using StuffDocumentChain"
   ]
  },
  {
   "cell_type": "code",
   "execution_count": 13,
   "id": "caea08a6-8942-4079-bc6d-19c1362781a3",
   "metadata": {},
   "outputs": [
    {
     "name": "stdout",
     "output_type": "stream",
     "text": [
      "In this speech, Steve Jobs shares three stories from his life with the graduating class. The first story is about dropping out of college and how it led him to take a calligraphy class that later influenced the design of the Macintosh computer. The second story is about getting fired from Apple and how it allowed him to start over and create successful companies like NeXT and Pixar. The third story is about facing death when he was diagnosed with cancer and how it reminded him of the importance of following his heart and not wasting time. He ends the speech by encouraging the graduates to stay hungry and stay foolish.\n"
     ]
    }
   ],
   "source": [
    "from langchain.chat_models import ChatOpenAI\n",
    "from langchain.chains.summarize import load_summarize_chain\n",
    "from langchain import PromptTemplate\n",
    "from langchain.docstore.document import Document\n",
    "\n",
    "with open('./files/sj.txt', encoding='utf-8') as f:\n",
    "    text = f.read()\n",
    "\n",
    "template = '''\n",
    "Write a short and concise summary of the following text:\n",
    "TEXT: `{text}`\n",
    "'''\n",
    "\n",
    "prompt = PromptTemplate(\n",
    "    input_variables=['text'],\n",
    "    template=template\n",
    ")\n",
    "\n",
    "llm = ChatOpenAI(model_name='gpt-3.5-turbo',  temperature=0)\n",
    "\n",
    "chain = load_summarize_chain(\n",
    "    llm=llm,\n",
    "    prompt=prompt,\n",
    "    chain_type='stuff',\n",
    "    verbose=False\n",
    ")\n",
    "\n",
    "docs = [Document(page_content=text)]\n",
    "\n",
    "summary = chain.run(docs)\n",
    "print(summary)"
   ]
  },
  {
   "cell_type": "code",
   "execution_count": null,
   "id": "4b6467b5-6f23-475f-b62d-28c92ae8fe33",
   "metadata": {},
   "outputs": [],
   "source": []
  }
 ],
 "metadata": {
  "kernelspec": {
   "display_name": "Python 3 (ipykernel)",
   "language": "python",
   "name": "python3"
  },
  "language_info": {
   "codemirror_mode": {
    "name": "ipython",
    "version": 3
   },
   "file_extension": ".py",
   "mimetype": "text/x-python",
   "name": "python",
   "nbconvert_exporter": "python",
   "pygments_lexer": "ipython3",
   "version": "3.11.6"
  }
 },
 "nbformat": 4,
 "nbformat_minor": 5
}
