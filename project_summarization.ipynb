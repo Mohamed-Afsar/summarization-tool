{
 "cells": [
  {
   "cell_type": "code",
   "execution_count": 3,
   "id": "bf79c4dd-ead9-4c8d-8ec6-38314f5f59bb",
   "metadata": {},
   "outputs": [
    {
     "data": {
      "text/plain": [
       "True"
      ]
     },
     "execution_count": 3,
     "metadata": {},
     "output_type": "execute_result"
    }
   ],
   "source": [
    "from dotenv import load_dotenv, find_dotenv\n",
    "load_dotenv(find_dotenv(), True)"
   ]
  },
  {
   "cell_type": "markdown",
   "id": "28896241-e352-4d3d-9732-88f62a4f1728",
   "metadata": {},
   "source": [
    "### Basic Summarization"
   ]
  },
  {
   "cell_type": "code",
   "execution_count": 3,
   "id": "090f4b91-4cdb-48ac-9402-a719c20e8ddf",
   "metadata": {},
   "outputs": [],
   "source": [
    "from langchain.chat_models import ChatOpenAI\n",
    "from langchain.schema import(\n",
    "    SystemMessage,\n",
    "    HumanMessage,\n",
    "    AIMessage\n",
    ")\n",
    "\n",
    "text = \"\"\"\n",
    "Mojo combines the usability of Python with the performance of C, leading to greater programmability of AI hardware and extensibility of AI models. It's basically an enhanced version of Python specifically designed for Artificial Intelligence developers.\n",
    "\n",
    "We just posted a full Mojo course on the freeCodeCamp.org YouTube channel. Elliot Arledge created this course. Elliot has created many popular courses related to AI and he's the perfect person to teach this course.\n",
    "\n",
    "Mojo allows you to write Python or scale all the way down to the metal. You can program the multitude of low-level AI hardware and no C++ or CUDA is required.\n",
    "\n",
    "Mojo was designed by the creator of the Swift programming language to bridge the gap between research and production by combining Python syntax and ecosystem with systems programming and metaprogramming features. Mojo was just released, but the goal is for it to become a superset of Python over time.\n",
    "\"\"\"\n",
    "\n",
    "messages = [\n",
    "    SystemMessage(content='You are an experienced copywriter with an expertise in summarizing'),\n",
    "    HumanMessage(content=f'Please provide a short and concise summary of the following text:\\n TEXT: {text}')\n",
    "]\n",
    "\n",
    "llm = ChatOpenAI(model_name='gpt-3.5-turbo',  temperature=0)"
   ]
  },
  {
   "cell_type": "code",
   "execution_count": 4,
   "id": "eb0bc758-1e4c-4be9-9f83-b6ec104330a4",
   "metadata": {},
   "outputs": [
    {
     "data": {
      "text/plain": [
       "181"
      ]
     },
     "execution_count": 4,
     "metadata": {},
     "output_type": "execute_result"
    }
   ],
   "source": [
    "llm.get_num_tokens(text)"
   ]
  },
  {
   "cell_type": "code",
   "execution_count": 5,
   "id": "2c078725-9655-4e7e-94cc-f2a51d2ee3dc",
   "metadata": {},
   "outputs": [
    {
     "name": "stdout",
     "output_type": "stream",
     "text": [
      "content='Mojo is a programming language that combines the usability of Python with the performance of C, making it ideal for AI developers. It allows for greater programmability of AI hardware and extensibility of AI models. A full course on Mojo has been posted on the freeCodeCamp.org YouTube channel, taught by Elliot Arledge, an experienced AI course creator. Mojo enables programming from Python to low-level AI hardware without the need for C++ or CUDA. It was designed by the creator of Swift to bridge the gap between research and production, combining Python syntax and ecosystem with systems programming and metaprogramming features. The goal is for Mojo to become a superset of Python in the future.'\n"
     ]
    }
   ],
   "source": [
    "summary = llm(messages)\n",
    "print(summary)"
   ]
  },
  {
   "cell_type": "markdown",
   "id": "b36331c1-4c0f-4f92-a0f1-4104a9f50930",
   "metadata": {},
   "source": [
    "### Summarizing using Prompt Templates"
   ]
  },
  {
   "cell_type": "code",
   "execution_count": 6,
   "id": "bb1f0289-3c4b-4372-90e5-06527f531ce2",
   "metadata": {},
   "outputs": [],
   "source": [
    "from langchain import PromptTemplate\n",
    "from langchain.chains import LLMChain\n",
    "\n",
    "template = '''\n",
    "Write a short and concise summary of the following text:\n",
    "TEXT: {text}.\n",
    "Translate the summary to {language}\n",
    "'''\n",
    "\n",
    "prompt = PromptTemplate(\n",
    "    input_variables = ['text', 'language'],\n",
    "    template = template\n",
    ")"
   ]
  },
  {
   "cell_type": "code",
   "execution_count": 7,
   "id": "740e7b74-80c0-426f-a832-0f773ce9782e",
   "metadata": {},
   "outputs": [
    {
     "data": {
      "text/plain": [
       "202"
      ]
     },
     "execution_count": 7,
     "metadata": {},
     "output_type": "execute_result"
    }
   ],
   "source": [
    "llm.get_num_tokens(prompt.format(text=text, language='English'))"
   ]
  },
  {
   "cell_type": "code",
   "execution_count": 10,
   "id": "b995c36b-8473-41c0-9e29-b564e48f7086",
   "metadata": {},
   "outputs": [
    {
     "name": "stdout",
     "output_type": "stream",
     "text": [
      "Mojo ist eine verbesserte Version von Python, die speziell für KI-Entwickler entwickelt wurde. Es kombiniert die Benutzerfreundlichkeit von Python mit der Leistung von C und ermöglicht eine bessere Programmierbarkeit von KI-Hardware und Erweiterbarkeit von KI-Modellen. Mojo ermöglicht es, entweder in Python zu programmieren oder bis auf die Hardware-Ebene herunterzuskalieren, ohne dass C++ oder CUDA erforderlich sind. Es wurde von dem Schöpfer der Swift-Programmiersprache entwickelt, um die Lücke zwischen Forschung und Produktion zu schließen, indem es Python-Syntax und -Ökosystem mit systemnaher Programmierung und Metaprogrammierungsmerkmalen kombiniert. Das Ziel ist es, dass Mojo im Laufe der Zeit zu einer Erweiterung von Python wird.\n"
     ]
    }
   ],
   "source": [
    "chain = LLMChain(\n",
    "    llm=llm,\n",
    "    prompt=prompt\n",
    ")\n",
    "\n",
    "summary = chain.run({'text': text, 'language': 'German'})\n",
    "print(summary)"
   ]
  },
  {
   "cell_type": "markdown",
   "id": "5c0c655d-5f93-41dd-8645-659a80b1a9e1",
   "metadata": {},
   "source": [
    "### Summary using StuffDocumentChain"
   ]
  },
  {
   "cell_type": "code",
   "execution_count": 13,
   "id": "caea08a6-8942-4079-bc6d-19c1362781a3",
   "metadata": {},
   "outputs": [
    {
     "name": "stdout",
     "output_type": "stream",
     "text": [
      "In this speech, Steve Jobs shares three stories from his life with the graduating class. The first story is about dropping out of college and how it led him to take a calligraphy class that later influenced the design of the Macintosh computer. The second story is about getting fired from Apple and how it allowed him to start over and create successful companies like NeXT and Pixar. The third story is about facing death when he was diagnosed with cancer and how it reminded him of the importance of following his heart and not wasting time. He ends the speech by encouraging the graduates to stay hungry and stay foolish.\n"
     ]
    }
   ],
   "source": [
    "from langchain.chat_models import ChatOpenAI\n",
    "from langchain.chains.summarize import load_summarize_chain\n",
    "from langchain import PromptTemplate\n",
    "from langchain.docstore.document import Document\n",
    "\n",
    "with open('./files/sj.txt', encoding='utf-8') as f:\n",
    "    text = f.read()\n",
    "\n",
    "template = '''\n",
    "Write a short and concise summary of the following text:\n",
    "TEXT: `{text}`\n",
    "'''\n",
    "\n",
    "prompt = PromptTemplate(\n",
    "    input_variables=['text'],\n",
    "    template=template\n",
    ")\n",
    "\n",
    "llm = ChatOpenAI(model_name='gpt-3.5-turbo',  temperature=0)\n",
    "\n",
    "chain = load_summarize_chain(\n",
    "    llm=llm,\n",
    "    prompt=prompt,\n",
    "    chain_type='stuff',\n",
    "    verbose=False\n",
    ")\n",
    "\n",
    "docs = [Document(page_content=text)]\n",
    "\n",
    "summary = chain.run(docs)\n",
    "print(summary)"
   ]
  },
  {
   "cell_type": "markdown",
   "id": "0f2f3bd0-908c-417a-865e-713bddd1455b",
   "metadata": {},
   "source": [
    "### Sumarizing Large Documents using map_reduce"
   ]
  },
  {
   "cell_type": "code",
   "execution_count": 4,
   "id": "b706113c-4ce7-4f5d-b9b9-8682a9b82e42",
   "metadata": {},
   "outputs": [
    {
     "name": "stdout",
     "output_type": "stream",
     "text": [
      "Steve Jobs shares three stories from his life, including dropping out of college and how it influenced the design of the Macintosh computer, getting fired from Apple and finding success in new ventures, and his experience with cancer and the importance of living each day fully. He encourages the audience to follow their passions, not settle, and remember that life is short. The speaker also reflects on the inevitability of death, urges the audience to live their own lives, and mentions The Whole Earth Catalog's message of staying hungry and foolish.\n"
     ]
    }
   ],
   "source": [
    "from langchain.chat_models import ChatOpenAI\n",
    "from langchain.chains.summarize import load_summarize_chain\n",
    "from langchain.text_splitter import RecursiveCharacterTextSplitter\n",
    "\n",
    "with open('./files/sj.txt', encoding='utf-8') as f:\n",
    "    text = f.read()\n",
    "\n",
    "llm = ChatOpenAI(model_name='gpt-3.5-turbo',  temperature=0)\n",
    "\n",
    "text_splitter = RecursiveCharacterTextSplitter(chunk_size=10000, chunk_overlap=50)\n",
    "chunks = text_splitter.create_documents([text])\n",
    "\n",
    "chain = load_summarize_chain(\n",
    "    llm=llm,\n",
    "    chain_type='map_reduce',\n",
    "    verbose=False\n",
    ")\n",
    "summary = chain.run(chunks)\n",
    "print(summary)"
   ]
  },
  {
   "cell_type": "code",
   "execution_count": 6,
   "id": "ceecccad-1894-403e-8bb9-23df06c80de7",
   "metadata": {},
   "outputs": [
    {
     "data": {
      "text/plain": [
       "'Write a concise summary of the following:\\n\\n\\n\"{text}\"\\n\\n\\nCONCISE SUMMARY:'"
      ]
     },
     "execution_count": 6,
     "metadata": {},
     "output_type": "execute_result"
    }
   ],
   "source": [
    "chain.llm_chain.prompt.template"
   ]
  },
  {
   "cell_type": "code",
   "execution_count": 8,
   "id": "4259fa4f-8c5c-4a26-8e9e-4d31d50df9f5",
   "metadata": {},
   "outputs": [
    {
     "data": {
      "text/plain": [
       "'Write a concise summary of the following:\\n\\n\\n\"{text}\"\\n\\n\\nCONCISE SUMMARY:'"
      ]
     },
     "execution_count": 8,
     "metadata": {},
     "output_type": "execute_result"
    }
   ],
   "source": [
    "chain.combine_document_chain.llm_chain.prompt.template"
   ]
  },
  {
   "cell_type": "markdown",
   "id": "0861d0ef-fe38-496a-8804-4250e1c560cf",
   "metadata": {},
   "source": [
    "### map_reduce with Custom Prompts"
   ]
  },
  {
   "cell_type": "code",
   "execution_count": 12,
   "id": "4a174b57-ee39-4b6f-a66c-737060cbd250",
   "metadata": {},
   "outputs": [],
   "source": [
    "from langchain import PromptTemplate\n",
    "\n",
    "map_prompt = '''\n",
    "Write a short and concise summary of the following:\n",
    "Text: `{text}`\n",
    "CONCISE SUMMARY:\n",
    "'''\n",
    "\n",
    "map_prompt_template = PromptTemplate(\n",
    "    input_variables=['text'],\n",
    "    template=map_prompt\n",
    ")"
   ]
  },
  {
   "cell_type": "code",
   "execution_count": 13,
   "id": "88e329ff-93e8-4d7c-ba63-39d21a6bd9e2",
   "metadata": {},
   "outputs": [],
   "source": [
    "combine_prompt = '''\n",
    "Write a concise summary of the following text that covers the key points.\n",
    "Add a title to the summary.\n",
    "Start your summary with an INTRODUCTION PARAGRAPH that gives an overview of the topic FOLLOWED \n",
    "by BULLET POINTS if possible and end the summary with a CONCLUSION PHRASE.\n",
    "Text: `{text}`\n",
    "'''\n",
    "\n",
    "combine_prompt_template = PromptTemplate(\n",
    "    input_variables=['text'],\n",
    "    template=combine_prompt\n",
    ")"
   ]
  },
  {
   "cell_type": "code",
   "execution_count": 15,
   "id": "baf3d28a-963e-4315-8cca-4c5209d1609d",
   "metadata": {},
   "outputs": [
    {
     "name": "stdout",
     "output_type": "stream",
     "text": [
      "Title: Steve Jobs' Speech on Life Lessons and Following Your Passion\n",
      "\n",
      "Introduction:\n",
      "In this speech, Steve Jobs shares three stories from his life, highlighting the importance of following one's passion and not settling for anything less. He encourages the audience to embrace their own path and live each day to the fullest.\n",
      "\n",
      "Key Points:\n",
      "- Story 1: Jobs dropped out of college and took a calligraphy class, which later influenced the design of the Macintosh computer.\n",
      "- Story 2: Getting fired from Apple led Jobs to start new ventures and find success.\n",
      "- Story 3: Jobs reflects on his experience with cancer and emphasizes the importance of living each day to the fullest.\n",
      "\n",
      "- The text discusses the inevitability of death and how it is a necessary part of life.\n",
      "- It encourages individuals to live their own lives and not be influenced by others' opinions.\n",
      "- The importance of following one's heart and intuition is emphasized.\n",
      "- The text mentions The Whole Earth Catalog and its message of staying hungry and staying foolish.\n",
      "- Jobs wishes the audience to embrace these qualities as they graduate and begin a new chapter in their lives.\n",
      "\n",
      "Conclusion:\n",
      "Steve Jobs' speech highlights the significance of following one's passion, embracing life's challenges, and living each day to the fullest. He encourages the audience to stay hungry, stay foolish, and not settle for anything less.\n"
     ]
    }
   ],
   "source": [
    "summary_chain = load_summarize_chain(\n",
    "    llm=llm,\n",
    "    chain_type='map_reduce',\n",
    "    map_prompt=map_prompt_template,\n",
    "    combine_prompt=combine_prompt_template,\n",
    "    verbose=False\n",
    ")\n",
    "output_summary = summary_chain.run(chunks)\n",
    "print(output_summary)"
   ]
  },
  {
   "cell_type": "code",
   "execution_count": null,
   "id": "484f30c1-5d1a-4603-8276-007b6eec756c",
   "metadata": {},
   "outputs": [],
   "source": []
  }
 ],
 "metadata": {
  "kernelspec": {
   "display_name": "Python 3 (ipykernel)",
   "language": "python",
   "name": "python3"
  },
  "language_info": {
   "codemirror_mode": {
    "name": "ipython",
    "version": 3
   },
   "file_extension": ".py",
   "mimetype": "text/x-python",
   "name": "python",
   "nbconvert_exporter": "python",
   "pygments_lexer": "ipython3",
   "version": "3.11.6"
  }
 },
 "nbformat": 4,
 "nbformat_minor": 5
}
